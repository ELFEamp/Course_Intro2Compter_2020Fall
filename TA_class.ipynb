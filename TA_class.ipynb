{
 "cells": [
  {
   "cell_type": "code",
   "execution_count": 176,
   "metadata": {
    "scrolled": true
   },
   "outputs": [
    {
     "name": "stdout",
     "output_type": "stream",
     "text": [
      "小/明/硕士/毕业/于/中国/中国科学院/科学/科学院/学院/计算/计算所\n"
     ]
    }
   ],
   "source": [
    "import jieba\n",
    "# 全模式\n",
    "s = \"小明硕士毕业于中国科学院计算所\"\n",
    "seg_list = jieba.cut(s,cut_all=True)\n",
    "print(\"/\".join(seg_list))"
   ]
  },
  {
   "cell_type": "code",
   "execution_count": 177,
   "metadata": {},
   "outputs": [
    {
     "name": "stdout",
     "output_type": "stream",
     "text": [
      "小明/硕士/毕业/于/中国科学院/计算所\n"
     ]
    }
   ],
   "source": [
    "# 精确模式（默认）\n",
    "seg_list = jieba.cut(s)\n",
    "print(\"/\".join(seg_list))"
   ]
  },
  {
   "cell_type": "code",
   "execution_count": 178,
   "metadata": {},
   "outputs": [
    {
     "name": "stdout",
     "output_type": "stream",
     "text": [
      "小明/硕士/毕业/于/中国/科学/学院/科学院/中国科学院/计算/计算所\n"
     ]
    }
   ],
   "source": [
    "# 搜索引擎模式\n",
    "seg_list = jieba.cut_for_search(s)\n",
    "print(\"/\".join(seg_list))"
   ]
  },
  {
   "cell_type": "code",
   "execution_count": 179,
   "metadata": {},
   "outputs": [
    {
     "name": "stdout",
     "output_type": "stream",
     "text": [
      "<generator object Tokenizer.cut at 0x7f6dd410b990>\n",
      "['小明', '硕士', '毕业', '于', '中国科学院', '计算所']\n"
     ]
    }
   ],
   "source": [
    "# 使用cut()和lcut的区别\n",
    "seg_list = jieba.cut(s)\n",
    "print(seg_list)\n",
    "seg_list = jieba.lcut(s)\n",
    "print(seg_list)"
   ]
  },
  {
   "cell_type": "code",
   "execution_count": 180,
   "metadata": {},
   "outputs": [
    {
     "name": "stdout",
     "output_type": "stream",
     "text": [
      "台中/在/正确/情况/下/不会/被/切开\n"
     ]
    }
   ],
   "source": [
    "import jieba\n",
    "s = \"台中在正确情况下不会被切开\"\n",
    "seg_list = jieba.cut(s)\n",
    "print(\"/\".join(seg_list))"
   ]
  },
  {
   "cell_type": "code",
   "execution_count": 181,
   "metadata": {},
   "outputs": [
    {
     "name": "stdout",
     "output_type": "stream",
     "text": [
      "台中/在/正确/情况/下/不会/被/切开\n"
     ]
    }
   ],
   "source": [
    "seg_list = jieba.cut(s,HMM = False)\n",
    "print(\"/\".join(seg_list))"
   ]
  },
  {
   "cell_type": "code",
   "execution_count": 182,
   "metadata": {},
   "outputs": [
    {
     "name": "stdout",
     "output_type": "stream",
     "text": [
      "台中/在/正确/情况/下/不会/被/切开\n"
     ]
    }
   ],
   "source": [
    "# jieba.suggest_freq('台中',True)\n",
    "jieba.add_word(\"台中\")\n",
    "seg_list = jieba.cut(s,HMM = False)\n",
    "print(\"/\".join(seg_list))"
   ]
  },
  {
   "cell_type": "code",
   "execution_count": 183,
   "metadata": {},
   "outputs": [
    {
     "name": "stdout",
     "output_type": "stream",
     "text": [
      "把/message/放入/post/中/将/出错\n"
     ]
    }
   ],
   "source": [
    "s = \"把message放入post中将出错\"\n",
    "seg_list = jieba.cut(s)\n",
    "print(\"/\".join(seg_list))"
   ]
  },
  {
   "cell_type": "code",
   "execution_count": 184,
   "metadata": {},
   "outputs": [
    {
     "name": "stdout",
     "output_type": "stream",
     "text": [
      "张卫国/中/将/率领/士兵/操练\n"
     ]
    }
   ],
   "source": [
    "s = \"张卫国中将率领士兵操练\"\n",
    "jieba.suggest_freq(('中','将'),True)\n",
    "seg_list = jieba.cut(s)\n",
    "print(\"/\".join(seg_list))"
   ]
  },
  {
   "cell_type": "code",
   "execution_count": 185,
   "metadata": {},
   "outputs": [
    {
     "name": "stdout",
     "output_type": "stream",
     "text": [
      "凯特琳/最近/在/研究/石墨烯/的/特性/;/自定义/词/功能/真的/很/有用\n"
     ]
    }
   ],
   "source": [
    "import jieba\n",
    "s = \"凯特琳最近在研究石墨烯的特性;自定义词功能真的很有用\"\n",
    "print(\"/\".join(jieba.cut(s)))"
   ]
  },
  {
   "cell_type": "code",
   "execution_count": 186,
   "metadata": {},
   "outputs": [
    {
     "name": "stdout",
     "output_type": "stream",
     "text": [
      "凯特琳/最近/在/研究/石墨烯/的/特性/;/自定义/词/功能/真的/很/有用\n"
     ]
    }
   ],
   "source": [
    "jieba.add_word('石墨烯')\n",
    "jieba.add_word('凯特琳')\n",
    "jieba.del_word('自定义词')\n",
    "print(\"/\".join(jieba.cut(s)))"
   ]
  },
  {
   "cell_type": "code",
   "execution_count": 187,
   "metadata": {},
   "outputs": [
    {
     "name": "stdout",
     "output_type": "stream",
     "text": [
      "基于/超算平台/的/云服务\n"
     ]
    }
   ],
   "source": [
    "# load_userdict()演示\n",
    "import jieba\n",
    "s = \"基于超算平台的云服务\"\n",
    "print(\"/\".join(jieba.cut(s)))"
   ]
  },
  {
   "cell_type": "code",
   "execution_count": 188,
   "metadata": {},
   "outputs": [
    {
     "name": "stdout",
     "output_type": "stream",
     "text": [
      "基于/超算平台/的/云服务\n"
     ]
    }
   ],
   "source": [
    "# 注意把dictionary.txt放到同一目录下\n",
    "jieba.load_userdict('dictionary.txt')\n",
    "print(\"/\".join(jieba.cut(s)))"
   ]
  },
  {
   "cell_type": "code",
   "execution_count": 189,
   "metadata": {},
   "outputs": [
    {
     "name": "stdout",
     "output_type": "stream",
     "text": [
      "我 r\n",
      "一把 m\n",
      "把 p\n",
      "把 p\n",
      "把住 v\n",
      "了 ul\n"
     ]
    }
   ],
   "source": [
    "import jieba\n",
    "import jieba.posseg as psg\n",
    "\n",
    "words = psg.cut(\"我一把把把把住了\")\n",
    "for word, flag in words:\n",
    "    print(\"%s %s\" % (word, flag))"
   ]
  },
  {
   "cell_type": "code",
   "execution_count": 190,
   "metadata": {},
   "outputs": [
    {
     "name": "stdout",
     "output_type": "stream",
     "text": [
      "['Hello', 'Mr.', 'Smith,', 'how', 'are', 'you', 'doing', 'today?', 'The', 'weather', 'is', 'great,', 'and', 'Python', 'is', 'awesome.', 'The', 'sky', 'is', 'pinkish-blue.', 'You', \"shouldn't\", 'eat', 'cardboard.']\n"
     ]
    }
   ],
   "source": [
    "# 调用split()以空白符作为分隔进行分词\n",
    "text = \"\"\"Hello Mr. Smith, how are you doing today? \n",
    "The weather is great, and Python is awesome. \n",
    "The sky is pinkish-blue. You shouldn't eat cardboard.\"\"\"\n",
    "print(text.split())"
   ]
  },
  {
   "cell_type": "code",
   "execution_count": 191,
   "metadata": {},
   "outputs": [
    {
     "name": "stdout",
     "output_type": "stream",
     "text": [
      "['Hello', 'Mr.', 'Smith', ',', 'how', 'are', 'you', 'doing', 'today', '?', 'The', 'weather', 'is', 'great', ',', 'and', 'Python', 'is', 'awesome', '.', 'The', 'sky', 'is', 'pinkish-blue', '.', 'You', 'should', \"n't\", 'eat', 'cardboard', '.']\n"
     ]
    }
   ],
   "source": [
    "import nltk\n",
    "# 第一次运行需下载punkt库\n",
    "# nltk.download('punkt')\n",
    "from nltk.tokenize import word_tokenize\n",
    "text = \"\"\"Hello Mr. Smith, how are you doing today? \n",
    "The weather is great, and Python is awesome. \n",
    "The sky is pinkish-blue. You shouldn't eat cardboard.\"\"\"\n",
    "token_list = word_tokenize(text)\n",
    "print(token_list)"
   ]
  },
  {
   "cell_type": "code",
   "execution_count": 192,
   "metadata": {},
   "outputs": [
    {
     "name": "stdout",
     "output_type": "stream",
     "text": [
      "Hello:1\n",
      "Mr.:1\n",
      "Smith:1\n",
      ",:2\n",
      "how:1\n",
      "are:1\n",
      "you:1\n",
      "doing:1\n",
      "today:1\n",
      "?:1\n",
      "The:2\n",
      "weather:1\n",
      "is:3\n",
      "great:1\n",
      "and:1\n",
      "Python:1\n",
      "awesome:1\n",
      ".:3\n",
      "sky:1\n",
      "pinkish-blue:1\n",
      "You:1\n",
      "should:1\n",
      "n't:1\n",
      "eat:1\n",
      "cardboard:1\n"
     ]
    }
   ],
   "source": [
    "import nltk\n",
    "from nltk.tokenize import word_tokenize\n",
    "\n",
    "text = \"\"\"Hello Mr. Smith, how are you doing today? \n",
    "The weather is great, and Python is awesome. \n",
    "The sky is pinkish-blue. You shouldn't eat cardboard.\"\"\"\n",
    "token_list = word_tokenize(text)\n",
    "freq = nltk.FreqDist(token_list)\n",
    "\n",
    "for k, v in freq.items():\n",
    "    print(str(k) + ':' +str(v))"
   ]
  },
  {
   "cell_type": "code",
   "execution_count": 201,
   "metadata": {},
   "outputs": [
    {
     "name": "stdout",
     "output_type": "stream",
     "text": [
      "7909\n",
      "87532\n",
      "0.008705387743910798\n",
      "0.008705387743910798\n"
     ]
    }
   ],
   "source": [
    "import nltk\n",
    "from nltk.tokenize import word_tokenize\n",
    "with open(\"The_Adventures_of_Tom_Sawyer.txt\",\"r\",encoding = \"gbk\") as fp:\n",
    "    text = fp.read()\n",
    "    token_list = word_tokenize(text)\n",
    "    fd = nltk.FreqDist(token_list)\n",
    "# 打印词表大小\n",
    "print(fd.B())\n",
    "# 打印全文词数\n",
    "print(fd.N())\n",
    "# 打印'Tom'的归一化频率\n",
    "print(fd.freq('Tom'))\n",
    "# 验证'Tom'的归一化频率\n",
    "print(fd['Tom']/fd.N())"
   ]
  },
  {
   "cell_type": "code",
   "execution_count": 202,
   "metadata": {},
   "outputs": [
    {
     "name": "stdout",
     "output_type": "stream",
     "text": [
      "[(',', 4926), ('.', 3789), ('the', 3324), ('and', 2940), ('a', 1757), ('to', 1705), ('``', 1526), (\"''\", 1517), ('of', 1426), ('was', 1176), ('it', 1130), ('I', 1012), ('that', 958), ('he', 925), ('in', 902), (\"'s\", 836), ('——', 827), ('you', 792), ('his', 772), ('Tom', 762)]\n"
     ]
    }
   ],
   "source": [
    "# fd为上面的FreqDist对象\n",
    "# most_common()传入一个整数n，返回出现次数最多的前n项组成的列表\n",
    "print(fd.most_common(20))"
   ]
  },
  {
   "cell_type": "code",
   "execution_count": 203,
   "metadata": {},
   "outputs": [
    {
     "name": "stdout",
     "output_type": "stream",
     "text": [
      "   ,    .  the  and    a   to   ``   ''   of  was   it    I that   he   in   's   ——  you  his  Tom \n",
      "4926 3789 3324 2940 1757 1705 1526 1517 1426 1176 1130 1012  958  925  902  836  827  792  772  762 \n"
     ]
    }
   ],
   "source": [
    "# tabulate()传入一个整数n，以表格的形式打印出现次数最多的前n项\n",
    "fd.tabulate(20)"
   ]
  },
  {
   "cell_type": "code",
   "execution_count": 204,
   "metadata": {
    "scrolled": true
   },
   "outputs": [
    {
     "data": {
      "image/png": "[encoded data removed]",
      "text/plain": [
       "<Figure size 432x288 with 1 Axes>"
      ]
     },
     "metadata": {
      "needs_background": "light"
     },
     "output_type": "display_data"
    }
   ],
   "source": [
    "# plot()传入一个整数n，绘制出现次数最多前n项的折线图\n",
    "fig = fd.plot(50)"
   ]
  },
  {
   "cell_type": "code",
   "execution_count": 205,
   "metadata": {},
   "outputs": [
    {
     "name": "stdout",
     "output_type": "stream",
     "text": [
      "['Two', 'plane', 'took', 'off', 'at', 'six', '.']\n",
      "planes -> plane\n",
      "planes -> plan\n",
      "took -> took\n",
      "took -> take\n",
      "drives -> drives\n",
      "cats -> cat\n",
      "quickest -> quick\n"
     ]
    },
    {
     "name": "stderr",
     "output_type": "stream",
     "text": [
      "[nltk_data] Downloading package wordnet to /home/qinziwei/nltk_data...\n",
      "[nltk_data]   Package wordnet is already up-to-date!\n"
     ]
    }
   ],
   "source": [
    "import nltk\n",
    "from nltk.stem import WordNetLemmatizer\n",
    "\n",
    "nltk.download('wordnet')\n",
    "wnl = nltk.stem.WordNetLemmatizer()\n",
    "raw = \"Two planes took off at six.\"\n",
    "tokens = word_tokenize(raw)\n",
    "res=  [wnl.lemmatize(t) for t in tokens]\n",
    "print(res)\n",
    "\n",
    "# 按默认的名词还原，还原结果正确\n",
    "print('planes ->',wnl.lemmatize('planes'))\n",
    "# 按动词还原，结果错误\n",
    "print('planes ->',wnl.lemmatize('planes','v'))\n",
    "# 按名词还原，结果错误\n",
    "print('took ->',wnl.lemmatize('took','n'))\n",
    "# 按动词还原，结果正确\n",
    "print('took ->',wnl.lemmatize('took','v'))\n",
    "# 按形容词还原，结果无效\n",
    "print('drives ->',wnl.lemmatize('drives','a'))\n",
    "\n",
    "# 正确\n",
    "print('cats ->',wnl.lemmatize('cats','n'))\n",
    "# 正确\n",
    "print('quickest ->',wnl.lemmatize('quickest','a'))"
   ]
  },
  {
   "cell_type": "code",
   "execution_count": null,
   "metadata": {},
   "outputs": [],
   "source": []
  },
  {
   "cell_type": "code",
   "execution_count": 206,
   "metadata": {},
   "outputs": [
    {
     "name": "stdout",
     "output_type": "stream",
     "text": [
      "['it', 'is', 'import', 'to', 'by', 'veri', 'python', 'while', 'you', 'are', 'python', 'with', 'python', '.', 'all', 'python', 'have', 'python', 'poor', 'at', 'least', 'onc', '.']\n"
     ]
    }
   ],
   "source": [
    "import nltk\n",
    "from nltk.stem import SnowballStemmer\n",
    "from nltk.tokenize import word_tokenize\n",
    "\n",
    "ss = SnowballStemmer('english')\n",
    "text = \"\"\"\n",
    "It is important to by very pythonly while you are pythoning with python. \n",
    "All pythoners have pythoned poorly at least once.\n",
    "\"\"\"\n",
    "tokens = word_tokenize(text)\n",
    "res=  [ss.stem(t) for t in tokens]\n",
    "print(res)"
   ]
  },
  {
   "cell_type": "code",
   "execution_count": 207,
   "metadata": {},
   "outputs": [
    {
     "name": "stderr",
     "output_type": "stream",
     "text": [
      "[nltk_data] Downloading package averaged_perceptron_tagger to\n",
      "[nltk_data]     /home/qinziwei/nltk_data...\n",
      "[nltk_data]   Package averaged_perceptron_tagger is already up-to-\n",
      "[nltk_data]       date!\n"
     ]
    }
   ],
   "source": [
    "import nltk\n",
    "from nltk.tokenize import word_tokenize\n",
    "nltk.download('averaged_perceptron_tagger')\n",
    "\n",
    "raw = \"Steven Paul Jobs was a founder and leader of Apple Inc.\"\n",
    "tokens = nltk.word_tokenize(raw)\n",
    "tags = nltk.pos_tag(tokens)"
   ]
  },
  {
   "cell_type": "code",
   "execution_count": 208,
   "metadata": {},
   "outputs": [
    {
     "name": "stdout",
     "output_type": "stream",
     "text": [
      "(S\n",
      "  (PERSON Steven/NNP)\n",
      "  (PERSON Paul/NNP Jobs/NNP)\n",
      "  was/VBD\n",
      "  a/DT\n",
      "  founder/NN\n",
      "  and/CC\n",
      "  leader/NN\n",
      "  of/IN\n",
      "  (PERSON Apple/NNP Inc/NNP)\n",
      "  ./.)\n"
     ]
    },
    {
     "name": "stderr",
     "output_type": "stream",
     "text": [
      "[nltk_data] Downloading package maxent_ne_chunker to\n",
      "[nltk_data]     /home/qinziwei/nltk_data...\n",
      "[nltk_data]   Package maxent_ne_chunker is already up-to-date!\n",
      "[nltk_data] Downloading package words to /home/qinziwei/nltk_data...\n",
      "[nltk_data]   Package words is already up-to-date!\n"
     ]
    }
   ],
   "source": [
    "import nltk\n",
    "nltk.download('maxent_ne_chunker')\n",
    "nltk.download('words')\n",
    "ners = nltk.ne_chunk(tags)\n",
    "print(ners)"
   ]
  },
  {
   "cell_type": "code",
   "execution_count": null,
   "metadata": {},
   "outputs": [],
   "source": []
  },
  {
   "cell_type": "code",
   "execution_count": null,
   "metadata": {},
   "outputs": [],
   "source": []
  },
  {
   "cell_type": "code",
   "execution_count": null,
   "metadata": {},
   "outputs": [],
   "source": []
  }
 ],
 "metadata": {
  "kernelspec": {
   "display_name": "Python 3",
   "language": "python",
   "name": "python3"
  },
  "language_info": {
   "codemirror_mode": {
    "name": "ipython",
    "version": 3
   },
   "file_extension": ".py",
   "mimetype": "text/x-python",
   "name": "python",
   "nbconvert_exporter": "python",
   "pygments_lexer": "ipython3",
   "version": "3.6.9"
  }
 },
 "nbformat": 4,
 "nbformat_minor": 4
}
